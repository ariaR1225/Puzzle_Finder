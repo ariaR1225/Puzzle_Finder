{
 "cells": [
  {
   "cell_type": "code",
   "execution_count": 4,
   "metadata": {},
   "outputs": [
    {
     "name": "stdout",
     "output_type": "stream",
     "text": [
      "Image has been split into 9 segments.\n"
     ]
    }
   ],
   "source": [
    "from PIL import Image\n",
    "\n",
    "image = Image.open('./asset/NU.jpg')\n",
    "width, height = image.size\n",
    "\n",
    "segment_width = width // 3\n",
    "segment_height = height // 3\n",
    "\n",
    "segments = []\n",
    "\n",
    "for i in range(3):\n",
    "    for j in range(3):\n",
    "        left = j * segment_width\n",
    "        upper = i * segment_height\n",
    "        right = (j + 1) * segment_width\n",
    "        lower = (i + 1) * segment_height\n",
    "        \n",
    "        segment = image.crop((left, upper, right, lower))\n",
    "        segments.append(segment)\n",
    "\n",
    "for idx, segment in enumerate(segments):\n",
    "    segment.save(f'./asset/segment_{idx}.jpg')  \n",
    "    # segment.show()\n",
    "\n",
    "print(\"Image has been split into 9 segments.\")\n"
   ]
  },
  {
   "cell_type": "code",
   "execution_count": null,
   "metadata": {},
   "outputs": [],
   "source": []
  },
  {
   "cell_type": "code",
   "execution_count": null,
   "metadata": {},
   "outputs": [],
   "source": []
  }
 ],
 "metadata": {
  "kernelspec": {
   "display_name": "ENV310",
   "language": "python",
   "name": "python3"
  },
  "language_info": {
   "codemirror_mode": {
    "name": "ipython",
    "version": 3
   },
   "file_extension": ".py",
   "mimetype": "text/x-python",
   "name": "python",
   "nbconvert_exporter": "python",
   "pygments_lexer": "ipython3",
   "version": "3.10.13"
  }
 },
 "nbformat": 4,
 "nbformat_minor": 2
}
