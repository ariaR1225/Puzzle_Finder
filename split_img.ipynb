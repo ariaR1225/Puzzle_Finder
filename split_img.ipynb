{
 "cells": [
  {
   "cell_type": "code",
   "execution_count": 1,
   "metadata": {},
   "outputs": [
    {
     "name": "stdout",
     "output_type": "stream",
     "text": [
      "Image has been split into 9 segments.\n"
     ]
    }
   ],
   "source": [
    "from PIL import Image\n",
    "\n",
    "# Open the image file\n",
    "image = Image.open('NU.jpg')\n",
    "\n",
    "# Get the dimensions of the image\n",
    "width, height = image.size\n",
    "\n",
    "# Calculate the width and height of each segment\n",
    "segment_width = width // 3\n",
    "segment_height = height // 3\n",
    "\n",
    "# Initialize a list to hold the segmented images\n",
    "segments = []\n",
    "\n",
    "# Loop through each segment\n",
    "for i in range(3):\n",
    "    for j in range(3):\n",
    "        # Define the bounding box for each segment\n",
    "        left = j * segment_width\n",
    "        upper = i * segment_height\n",
    "        right = (j + 1) * segment_width\n",
    "        lower = (i + 1) * segment_height\n",
    "        \n",
    "        # Crop the segment from the original image\n",
    "        segment = image.crop((left, upper, right, lower))\n",
    "        \n",
    "        # Append the segment to the list\n",
    "        segments.append(segment)\n",
    "\n",
    "# Example usage: Save or display each segment\n",
    "for idx, segment in enumerate(segments):\n",
    "    segment.save(f'segment_{idx}.jpg', quality = 10)  # Save each segment as a separate image file\n",
    "    # To display each segment (optional)\n",
    "    # segment.show()\n",
    "\n",
    "print(\"Image has been split into 9 segments.\")\n"
   ]
  },
  {
   "cell_type": "code",
   "execution_count": null,
   "metadata": {},
   "outputs": [],
   "source": []
  }
 ],
 "metadata": {
  "kernelspec": {
   "display_name": "ENV310",
   "language": "python",
   "name": "python3"
  },
  "language_info": {
   "codemirror_mode": {
    "name": "ipython",
    "version": 3
   },
   "file_extension": ".py",
   "mimetype": "text/x-python",
   "name": "python",
   "nbconvert_exporter": "python",
   "pygments_lexer": "ipython3",
   "version": "3.10.13"
  }
 },
 "nbformat": 4,
 "nbformat_minor": 2
}
