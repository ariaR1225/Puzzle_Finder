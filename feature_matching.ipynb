{
 "cells": [
  {
   "cell_type": "code",
   "execution_count": 5,
   "metadata": {},
   "outputs": [],
   "source": [
    "import numpy as np\n",
    "import cv2\n",
    "from PIL import Image"
   ]
  },
  {
   "cell_type": "code",
   "execution_count": 8,
   "metadata": {},
   "outputs": [
    {
     "name": "stderr",
     "output_type": "stream",
     "text": [
      "[ WARN:0@702.109] global /private/var/folders/sy/f16zz6x50xz3113nwtb9bvq00000gp/T/abs_f6tvh9615u/croot/opencv-suite_1691620375715/work/modules/imgcodecs/src/loadsave.cpp (239) findDecoder imread_('your_original_image.jpg'): can't open/read file: check file path/integrity\n",
      "[ WARN:0@702.110] global /private/var/folders/sy/f16zz6x50xz3113nwtb9bvq00000gp/T/abs_f6tvh9615u/croot/opencv-suite_1691620375715/work/modules/imgcodecs/src/loadsave.cpp (239) findDecoder imread_('your_segment_image.jpg'): can't open/read file: check file path/integrity\n"
     ]
    },
    {
     "ename": "error",
     "evalue": "OpenCV(4.6.0) /private/var/folders/sy/f16zz6x50xz3113nwtb9bvq00000gp/T/abs_f6tvh9615u/croot/opencv-suite_1691620375715/work/modules/calib3d/src/fundam.cpp:385: error: (-28:Unknown error code -28) The input arrays should have at least 4 corresponding point sets to calculate Homography in function 'findHomography'\n",
     "output_type": "error",
     "traceback": [
      "\u001b[0;31m---------------------------------------------------------------------------\u001b[0m",
      "\u001b[0;31merror\u001b[0m                                     Traceback (most recent call last)",
      "Cell \u001b[0;32mIn[8], line 29\u001b[0m\n\u001b[1;32m     26\u001b[0m matched_points_segment \u001b[38;5;241m=\u001b[39m np\u001b[38;5;241m.\u001b[39mfloat32([keypoints_segment[match\u001b[38;5;241m.\u001b[39mtrainIdx]\u001b[38;5;241m.\u001b[39mpt \u001b[38;5;28;01mfor\u001b[39;00m match \u001b[38;5;129;01min\u001b[39;00m matches])\u001b[38;5;241m.\u001b[39mreshape(\u001b[38;5;241m-\u001b[39m\u001b[38;5;241m1\u001b[39m, \u001b[38;5;241m1\u001b[39m, \u001b[38;5;241m2\u001b[39m)\n\u001b[1;32m     28\u001b[0m \u001b[38;5;66;03m# Calculate transformation matrix (homography)\u001b[39;00m\n\u001b[0;32m---> 29\u001b[0m H, _ \u001b[38;5;241m=\u001b[39m \u001b[43mcv2\u001b[49m\u001b[38;5;241;43m.\u001b[39;49m\u001b[43mfindHomography\u001b[49m\u001b[43m(\u001b[49m\u001b[43mmatched_points_segment\u001b[49m\u001b[43m,\u001b[49m\u001b[43m \u001b[49m\u001b[43mmatched_points_original\u001b[49m\u001b[43m,\u001b[49m\u001b[43m \u001b[49m\u001b[43mcv2\u001b[49m\u001b[38;5;241;43m.\u001b[39;49m\u001b[43mRANSAC\u001b[49m\u001b[43m)\u001b[49m\n\u001b[1;32m     31\u001b[0m \u001b[38;5;66;03m# Get the dimensions of the segment\u001b[39;00m\n\u001b[1;32m     32\u001b[0m segment_height, segment_width \u001b[38;5;241m=\u001b[39m segment_image\u001b[38;5;241m.\u001b[39mshape[:\u001b[38;5;241m2\u001b[39m]\n",
      "\u001b[0;31merror\u001b[0m: OpenCV(4.6.0) /private/var/folders/sy/f16zz6x50xz3113nwtb9bvq00000gp/T/abs_f6tvh9615u/croot/opencv-suite_1691620375715/work/modules/calib3d/src/fundam.cpp:385: error: (-28:Unknown error code -28) The input arrays should have at least 4 corresponding point sets to calculate Homography in function 'findHomography'\n"
     ]
    }
   ],
   "source": [
    "import cv2\n",
    "import numpy as np\n",
    "\n",
    "# Load the original image and segment\n",
    "original_image = cv2.imread('your_original_image.jpg', cv2.IMREAD_GRAYSCALE)\n",
    "segment_image = cv2.imread('your_segment_image.jpg', cv2.IMREAD_GRAYSCALE)\n",
    "\n",
    "# Initialize feature detector (ORB)\n",
    "orb = cv2.ORB_create()\n",
    "\n",
    "# Find keypoints and descriptors in both images\n",
    "keypoints_original, descriptors_original = orb.detectAndCompute(original_image, None)\n",
    "keypoints_segment, descriptors_segment = orb.detectAndCompute(segment_image, None)\n",
    "\n",
    "# Initialize a brute force matcher\n",
    "bf = cv2.BFMatcher(cv2.NORM_HAMMING, crossCheck=True)\n",
    "\n",
    "# Match descriptors\n",
    "matches = bf.match(descriptors_original, descriptors_segment)\n",
    "\n",
    "# Sort matches based on distance\n",
    "matches = sorted(matches, key=lambda x: x.distance)\n",
    "\n",
    "# Extract matching keypoints\n",
    "matched_points_original = np.float32([keypoints_original[match.queryIdx].pt for match in matches]).reshape(-1, 1, 2)\n",
    "matched_points_segment = np.float32([keypoints_segment[match.trainIdx].pt for match in matches]).reshape(-1, 1, 2)\n",
    "\n",
    "# Calculate transformation matrix (homography)\n",
    "H, _ = cv2.findHomography(matched_points_segment, matched_points_original, cv2.RANSAC)\n",
    "\n",
    "# Get the dimensions of the segment\n",
    "segment_height, segment_width = segment_image.shape[:2]\n",
    "\n",
    "# Define the corners of the segment in its own coordinate system\n",
    "segment_corners = np.float32([[0, 0], [segment_width, 0], [segment_width, segment_height], [0, segment_height]]).reshape(-1, 1, 2)\n",
    "\n",
    "# Transform the segment corners to the original image coordinate system\n",
    "transformed_segment_corners = cv2.perspectiveTransform(segment_corners, H)\n",
    "\n",
    "# Extract the location (bounding box) of the segment in the original image\n",
    "min_x, min_y = np.int32(transformed_segment_corners.min(axis=0).ravel())\n",
    "max_x, max_y = np.int32(transformed_segment_corners.max(axis=0).ravel())\n",
    "segment_location = (min_x, min_y, max_x, max_y)\n",
    "\n",
    "print(f\"Location of the segment in the original image: {segment_location}\")\n"
   ]
  },
  {
   "cell_type": "code",
   "execution_count": null,
   "metadata": {},
   "outputs": [],
   "source": []
  },
  {
   "cell_type": "code",
   "execution_count": null,
   "metadata": {},
   "outputs": [],
   "source": []
  }
 ],
 "metadata": {
  "kernelspec": {
   "display_name": "ENV310",
   "language": "python",
   "name": "python3"
  },
  "language_info": {
   "codemirror_mode": {
    "name": "ipython",
    "version": 3
   },
   "file_extension": ".py",
   "mimetype": "text/x-python",
   "name": "python",
   "nbconvert_exporter": "python",
   "pygments_lexer": "ipython3",
   "version": "3.10.13"
  }
 },
 "nbformat": 4,
 "nbformat_minor": 2
}
